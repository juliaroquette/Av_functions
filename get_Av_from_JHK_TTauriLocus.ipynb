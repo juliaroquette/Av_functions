{
 "cells": [
  {
   "cell_type": "markdown",
   "id": "3861879c-b4e6-436b-9be5-af6208cc39fe",
   "metadata": {},
   "source": [
    "**@juliaroquette 19 Nov 2023** Implementing a code for getting extinction estimates on the JHK colour-colour diagram by de-reddening YSOs down to the CTTS Loucs. "
   ]
  },
  {
   "cell_type": "code",
   "execution_count": 11,
   "id": "ee33f437-9074-405c-ab0f-b838b55871f7",
   "metadata": {},
   "outputs": [],
   "source": [
    "import numpy as np"
   ]
  },
  {
   "cell_type": "markdown",
   "id": "376278b9-a2f8-4170-ac97-eccd154a3608",
   "metadata": {},
   "source": [
    "<u>**Reddening**</u>: The reddening law adopted is the one by [Indebetouw et al. 2005](https://ui.adsabs.harvard.edu/abs/2005ApJ...619..931I/abstract)\n",
    "\n",
    "For Orion: l=209.0117 b=-19.3829. Nevertheless, for future simplification, I will simply adopt the averafe value from Table 1 from Indebetouw et al. 2005::\n",
    "\n",
    "- $\\frac{A_J}{A_K}=2.5\\pm0.14$\n",
    "- $\\frac{A_H}{A_K}=1.55\\pm0.08$\n",
    "- $\\frac{A_K}{A_K}=1$\n",
    "\n",
    "Following Indebetouw et al. 2005 we adopt $\\frac{A_K}{A_V}\\sim8.8$ for $R_V=3.1$ from Cardeli+1989. Hence:\n",
    "\n",
    "- $\\frac{A_J}{A_V}=0.284\\pm0.14$\n",
    "- $\\frac{A_H}{A_V}=1.76\\pm0.08$\n",
    "- $\\frac{A_K}{A_K}=0.114$"
   ]
  },
  {
   "cell_type": "code",
   "execution_count": 57,
   "id": "51f229f2-1f10-4634-8ab4-f35099aeea80",
   "metadata": {},
   "outputs": [],
   "source": [
    "def A_J(Av, value=None):\n",
    "    if value == 'up':\n",
    "        return (0.284 + 0.14)*Av\n",
    "    elif value == 'bottom':\n",
    "        return (0.284 - 0.14)*Av\n",
    "    else:\n",
    "        return 0.284*Av\n",
    "\n",
    "def A_H(Av, value=None):\n",
    "    if value == 'up':\n",
    "        return (0.176 + 0.08)*Av\n",
    "    elif value == 'bottom':\n",
    "        return (0.176 - 0.08)*Av\n",
    "    else:\n",
    "        return 0.176*Av\n",
    "def A_Ks(Av):\n",
    "    return 0.114*Av"
   ]
  },
  {
   "cell_type": "markdown",
   "id": "e7631948-9d9d-4943-93e2-b47e9ee1aea6",
   "metadata": {},
   "source": [
    "<u>**The Classical T Tauri Locus**</u>\n",
    "The Classical T Tauri Locus has been introduced by [Mayer et al. 1997](https://ui.adsabs.harvard.edu/abs/1997AJ....114..288M/abstract) as a narrow locci occupied by de-reddened Classical T Tauri stars in the JHK Colour-colour diagram. \n",
    "\n",
    "$(J-H)_\\mathrm{CTTS} = (0.58 \\pm 0.11) \\times (H-K)_\\mathrm{CTTS} + (0.52 \\pm 0.06)$\n",
    "\n",
    "The CTTS locus intercepts the reddening vector of an M6 stars with Av=1.6, it extends until (H-K) = 1 mag and it was estimated based on the CIT photometric system. \n",
    "\n",
    "The conversion between CIT and 2MASS is provided in [Carpenter 2001](https://ui.adsabs.harvard.edu/abs/2001AJ....121.2851C/abstract):\n",
    "\n",
    "$(Ks)_{2MASS} = K_{CIT} + (0.000 \\pm 0.005)(J-K)_{CIT} + (-0.024\\pm 0.003)$\n",
    "\n",
    "$(J-H)_{2MASS} = (1.076\\pm 0.010)(J-H)_{CIT} + (-0.043 \\pm 0.006)$\n",
    "\n",
    "$(J-Ks)_{2MASS} = (1.056 \\pm 0.006)(J-K)_{CIT} + (-0.013 \\pm 0.005)$\n",
    "\n",
    "$(H-Ks)_{2MASS}= (1.026 \\pm 0.020)(H-K)_{CIT} + (0.028 \\pm 0.005)$.\n",
    "\n"
   ]
  },
  {
   "cell_type": "markdown",
   "id": "cddff2d9-46e2-4a03-b824-1a9765b5141e",
   "metadata": {},
   "source": [
    "<u>CTTS Locus for 2MASS:</u>\n",
    "By propagating the coefficients in these transformations along with their uncertainties we obtain:\n",
    "    \n",
    "$(J-H)_{2M} = (0.608\\pm 0.116)[(H-Ks)_{2M} - (0.028 \\pm 0.005)] + (0.603 \\pm 0.065)$"
   ]
  },
  {
   "cell_type": "markdown",
   "id": "8cfc61c8-c8f8-4896-a86d-a159761bd088",
   "metadata": {},
   "source": [
    "$(J-H)_{2M,up} = 0.724[(H-Ks)_{2M,up} - 0.033] + 0.668$\n",
    "$(J-H)_{2M,bottom} = 0.492[(H-Ks)_{2M,bottom} - 0.023] + 0.538$"
   ]
  },
  {
   "cell_type": "markdown",
   "id": "daab40c3-7f76-4f0e-bda3-b8426008d211",
   "metadata": {},
   "source": [
    "<u>CTTS Locus Limits:</u>"
   ]
  },
  {
   "cell_type": "markdown",
   "id": "0a69c965-ae08-430a-9b2c-a1255a6fad61",
   "metadata": {},
   "source": [
    "- From the [updated Pecault&Mamajek 2013 Empirical Sequence](https://www.pas.rochester.edu/~emamajek/EEM_dwarf_UBVIJHK_colors_Teff.txt) a *M6 dwarf* has the colours:\n",
    "\n",
    "(J-H)_{2M} = 0.605\n",
    "\n",
    "(H-Ks)_{2M} = 0.352\n",
    "\n"
   ]
  },
  {
   "cell_type": "code",
   "execution_count": 36,
   "id": "c1a030fe-9733-493f-a51e-fe40fa301453",
   "metadata": {},
   "outputs": [
    {
     "data": {
      "text/plain": [
       "0.06504639574949561"
      ]
     },
     "execution_count": 36,
     "metadata": {},
     "output_type": "execute_result"
    }
   ],
   "source": [
    "np.sqrt((1.076*0.06)**2+(.52*.01)**2+(0.006)**2)"
   ]
  },
  {
   "cell_type": "code",
   "execution_count": 38,
   "id": "2f70c0eb-af4d-4e43-8991-ccc2f434f093",
   "metadata": {},
   "outputs": [
    {
     "data": {
      "text/plain": [
       "0.45147360425050437"
      ]
     },
     "execution_count": 38,
     "metadata": {},
     "output_type": "execute_result"
    }
   ],
   "source": [
    "0.52*1.076-0.043 - 0.06504639574949561"
   ]
  },
  {
   "cell_type": "code",
   "execution_count": 50,
   "id": "b047e25b-7acb-4fa3-ad20-c8875708b302",
   "metadata": {},
   "outputs": [],
   "source": [
    "    def JH_ctts_2M(HK, value=None):\n",
    "        if value == 'up':\n",
    "            return 0.724*(HK - 0.033) + 0.538 \n",
    "        elif value == 'bottom':\n",
    "            return 0.492*(HK - 0.023) + 0.452\n",
    "        else:\n",
    "            return 0.608*(HK - 0.028) + 0.517 \n",
    "    "
   ]
  },
  {
   "cell_type": "code",
   "execution_count": 52,
   "id": "935339cd-443e-431b-ba51-aaf444c82f7d",
   "metadata": {},
   "outputs": [
    {
     "data": {
      "text/plain": [
       "0.768956"
      ]
     },
     "execution_count": 52,
     "metadata": {},
     "output_type": "execute_result"
    }
   ],
   "source": [
    "JH_ctts_2M(0.352, value='up')"
   ]
  },
  {
   "cell_type": "code",
   "execution_count": 42,
   "id": "3f27d30a-b878-43d7-b0d4-43283096f0f1",
   "metadata": {},
   "outputs": [],
   "source": [
    "def JH_ctts_2M(HM, value=None):\n",
    "    \"\"\"\n",
    "    Returns extremety points for the CTTS Locus for the 2MASS system\n",
    "    \"\"\"\n",
    "    def JH_ctts_2M(value=None):\n",
    "        if value == 'up':\n",
    "            return 0.724*(HK - 0.033) + 0.668 \n",
    "        elif value == 'bottom':\n",
    "            return 0.492*(HK - 0.023) + 0.538\n",
    "        else:\n",
    "            return 0.608*(HK - 0.028) + 0.603 \n",
    "    "
   ]
  },
  {
   "cell_type": "code",
   "execution_count": 1,
   "id": "b62301f9-619c-429f-a154-3647f4dc9b3b",
   "metadata": {},
   "outputs": [],
   "source": [
    "def line(p1, p2):\n",
    "    A = (p1[1] - p2[1])\n",
    "    B = (p2[0] - p1[0])\n",
    "    C = (p1[0]*p2[1] - p2[0]*p1[1])\n",
    "    return A, B, -C"
   ]
  },
  {
   "cell_type": "code",
   "execution_count": 2,
   "id": "b10109a7-a8f9-4f47-8592-1502d1eaeda9",
   "metadata": {},
   "outputs": [],
   "source": [
    "def intersection(L1, L2):\n",
    "    D  = L1[0] * L2[1] - L1[1] * L2[0]\n",
    "    Dx = L1[2] * L2[1] - L1[1] * L2[2]\n",
    "    Dy = L1[0] * L2[2] - L1[2] * L2[0]\n",
    "    if D != 0:\n",
    "        x = Dx / D\n",
    "        y = Dy / D\n",
    "        return x, y\n",
    "    else:\n",
    "        return False"
   ]
  },
  {
   "cell_type": "code",
   "execution_count": null,
   "id": "df52cc32-765c-4977-ad35-e6b90a70061e",
   "metadata": {},
   "outputs": [],
   "source": [
    "def intersecao(X, Y, p0, p1):\n",
    "    \"\"\"\n",
    "    acha interseção entre a curva da isocrona, vetores X e Y, e a reta que define o avermelhamento de um \n",
    "    ponto, descrita pelos pontos p0 (ponto de dados reais) e p1 (ponto avermelhado).\n",
    "    retorna os indices ix onde as curvas se interceptam\n",
    "    \"\"\"\n",
    "    \n",
    "    A=np.array(np.transpose([X,Y]))\n",
    "    #SOLUCAO DO STACK OVERFLOW PRA INTERSECAO ENTRE UMA RETA E UMA CURVA\n",
    "    b = (p1[1] - p0[1]) / (p1[0] - p0[0]) # gradient\n",
    "    a = p0[1] - b * p0[0] # intercept\n",
    "    B = (a + A[:,0] * b) - A[:,1] # distance of y value from line\n",
    "    ix = np.where(B[1:] * B[:-1] < 0)[0] # index of points where the next point is on the other side of the line\n",
    "    d_ratio = B[ix] / (B[ix] - B[ix + 1]) # similar triangles work out crossing points\n",
    "    cross_points = np.zeros((len(ix), 2)) # empty array for crossing points\n",
    "    cross_points[:,0] = A[ix,0] + d_ratio * (A[ix+1,0] - A[ix,0]) # x crossings\n",
    "    cross_points[:,1] = A[ix,1] + d_ratio * (A[ix+1,1] - A[ix,1]) # y crossings\n",
    "    return ix     "
   ]
  },
  {
   "cell_type": "code",
   "execution_count": 3,
   "id": "405d9bc2-a790-46dd-b11e-df24ce412b9c",
   "metadata": {},
   "outputs": [],
   "source": [
    "def reta(p1, p2):\n",
    "    \"\"\"\n",
    "    Given two points p1=[x1,y1]\n",
    "    and p2=[x2,y2], estimates the A and B\n",
    "    coeficients in a straight line given:\n",
    "    y=Ax+B\n",
    "    \"\"\"\n",
    "    x=np.empty([2])\n",
    "    y=np.empty([2])\n",
    "    x[0]=p1[0]\n",
    "    x[1]=p2[0]\n",
    "    y[0]=p1[1]\n",
    "    y[1]=p2[1]\n",
    "    A,B=np.polyfit(x,y,1)\n",
    "    return A,B    "
   ]
  },
  {
   "cell_type": "code",
   "execution_count": 4,
   "id": "f840b539-86ba-42cf-9cdf-5a44c9b88f45",
   "metadata": {},
   "outputs": [],
   "source": [
    "def avp0(p0,ax,ay):\n",
    "    \"\"\"\n",
    "    avermelha o ponto p0 dado os avermelhamentos ax e ay \n",
    "    retorna p1\n",
    "    \"\"\"\n",
    "    return [p0[0]-50.*ax,p0[1]-50.*ay]"
   ]
  },
  {
   "cell_type": "code",
   "execution_count": 5,
   "id": "ee81daf5-6c1d-4186-82ab-0d154332eeed",
   "metadata": {},
   "outputs": [],
   "source": [
    "def getAv(x,y,xi,yi,Ax,Ay,plot=False):\n",
    "    \"\"\"\n",
    "    Estimate Avs:\n",
    "    x,y: datapoints\n",
    "    xi,yi: isochrone data\n",
    "    Ax,Ay gives a reference for the reddening in each axis of the color-space \n",
    "    should be something like Ax=C*Av, with Av=1\n",
    "    \"\"\"\n",
    "    from scipy import spatial\n",
    "    Av=np.nan\n",
    "    flag=np.nan\n",
    "    #testa se esta numa regiao desavermelhavel:\n",
    "    p1=[xi[np.argmax(xi)],yi[np.argmax(xi)]]\n",
    "    p2=me.avp0(p1,-Ax,-Ay)\n",
    "    p4=[xi[np.argmin(xi)],yi[np.argmin(xi)]]\n",
    "    p3=me.avp0(p4,-Ax,-Ay)\n",
    "    if bool(plot):\n",
    "        fig,ax = plt.subplots(1,1,figsize = (3,3),dpi=100)\n",
    "        ax.plot([p1[0],p2[0]],[p1[1],p2[1]],'g:')\n",
    "        ax.plot([p2[0],p3[0]],[p2[1],p3[1]],'g:')\n",
    "        ax.plot([p3[0],p4[0]],[p3[1],p4[1]],'g:')\n",
    "        ax.plot([p4[0],p1[0]],[p4[1],p1[1]],'g:')\n",
    "        ax.plot(x,y,'rx')\n",
    "        ax.plot(xi,yi,'k-',lw=1)\n",
    "        t=me.avp0([x,y],Ax,Ay)\n",
    "        ax.plot([x,t[0]],[y,t[1]],'y:')\n",
    "\n",
    "        ax.set_ylim(10,23) \n",
    "        ax.invert_yaxis()\n",
    "        ax.set_xlim(0,5)\n",
    "                   \n",
    "    if bool(me.IsidePolygon([x,y],p1,p2,p3,p4)):\n",
    "        print('here')\n",
    "        ii=me.intersecao(xi,yi,[x,y],me.avp0([x,y],Ax,Ay)) #intersecao entre linha de Av e a isocrona\n",
    "        lineAV=me.line([x,y],me.avp0([x,y],Ax,Ay))\n",
    "#        ax.plot(x,y,'kx',ms=1)\n",
    "        if bool(any(ii))==True: #testa se tem resultado]\n",
    "            if len(ii)>1:\n",
    "                print('here2')\n",
    "#                print('degenerated! I am dealing with it....')\n",
    "                Avp=[]\n",
    "                for xx in ii:\n",
    "                    xh=xi[xx]\n",
    "                    yh=yi[xx]\n",
    "                    A=np.array(np.transpose([xi,yi]))\n",
    "                    pt=[xh,yh]\n",
    "                    #acha ponto real\n",
    "                    d,jj=spatial.KDTree(A).query(pt)\n",
    "                    if (jj <len(xi) ):\n",
    "                        if (jj > 0 ):\n",
    "                            lineIsoc=me.line([xi[jj-1],yi[jj-1]],[xi[jj+1],yi[jj+1]])\n",
    "                            x0,y0=me.intersection(lineAV,lineIsoc) \n",
    "                        #    print(x,x0,y0)\n",
    "#                            print((x-x0)/Ax)\n",
    "                            flag=1\n",
    "                        else:\n",
    "                            lineIsoc=me.line([xi[jj],yi[jj]],[xi[jj+1],yi[jj+1]])\n",
    "                            x0,y0=xh,yh\n",
    "                            flag=2\n",
    "                    else:\n",
    "                        lineIsoc=me.line([xi[jj-1],yi[jj-1]],[xi[jj],yi[jj]])\n",
    "                        x0,y0=xh,yh\n",
    "                        flag=3\n",
    "                    Avx=(x-x0)/Ax\n",
    "                    Avy=(y-y0)/Ay\n",
    " #                   print((Avx+Avy)/2.)\n",
    "                    Avp.append((Avx+Avy)/2.)\n",
    "#                print(Avp)\n",
    "                Av=Avp[np.argmin(Avp)]\n",
    "                \n",
    "            else: # if there is only one intersection\n",
    "                xh=xi[ii[0]]\n",
    "                yh=yi[ii[0]]\n",
    "                A=np.array(np.transpose([xi,yi]))\n",
    "                pt=[xh,yh]\n",
    "                #acha ponto real\n",
    "                d,jj=spatial.KDTree(A).query(pt)\n",
    "                if (jj <len(xi) ):\n",
    "                    if (jj > 0 ):\n",
    "                        lineIsoc=me.line([xi[jj-1],yi[jj-1]],[xi[jj+1],yi[jj+1]])\n",
    "                        x0,y0=me.intersection(lineAV,lineIsoc) \n",
    "               #         print('2:',x,x0,y0)\n",
    "                    else:\n",
    "                        lineIsoc=me.line([xi[jj],yi[jj]],[xi[jj+1],yi[jj+1]])\n",
    "                        x0,y0=xh,yh\n",
    "                else:\n",
    "                    lineIsoc=me.line([xi[jj-1],yi[jj-1]],[xi[jj],yi[jj]])\n",
    "                    x0,y0=xh,yh\n",
    "                Avx=(x-x0)/Ax\n",
    "                Avy=(y-y0)/Ay\n",
    "                Av=(Avx+Avy)/2.\n",
    "                flag=np.nan\n",
    "    return Av,flag\n"
   ]
  },
  {
   "cell_type": "code",
   "execution_count": null,
   "id": "ba54e96d-8b7b-409c-8fb8-406b6e984150",
   "metadata": {},
   "outputs": [],
   "source": [
    "def dered(p0,av,ax,ay,d=None):\n",
    "    \"\"\"\n",
    "    desavermelha um ponto num diagram qualquer, com eixos x e y podendo ser cores ou magnitudes\n",
    "    p0 é o ponto x,y\n",
    "    av é o avermelhamento do ponto \n",
    "    ax e ay sao os coeficientes de avermelhamento nos eixos x e y\n",
    "    se for um diagrama cor-magnitude, deve-se fornecer d=log10 dist(pc)\n",
    "    Cygnus OB2 d=10.8\n",
    "    \n",
    "    retorna p1 desavermelhada\n",
    "    \"\"\"\n",
    "    if d is None:\n",
    "        return [p0-av*ax,p0-av*ay]\n",
    "    else:\n",
    "        return [p0-av*ax,p0-av*ay+d]\n",
    "        "
   ]
  }
 ],
 "metadata": {
  "kernelspec": {
   "display_name": "Python 3 (ipykernel)",
   "language": "python",
   "name": "python3"
  },
  "language_info": {
   "codemirror_mode": {
    "name": "ipython",
    "version": 3
   },
   "file_extension": ".py",
   "mimetype": "text/x-python",
   "name": "python",
   "nbconvert_exporter": "python",
   "pygments_lexer": "ipython3",
   "version": "3.10.4"
  }
 },
 "nbformat": 4,
 "nbformat_minor": 5
}
