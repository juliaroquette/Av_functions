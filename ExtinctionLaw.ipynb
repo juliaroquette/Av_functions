{
 "cells": [
  {
   "cell_type": "markdown",
   "id": "344c501c-24e5-4ba6-89e0-ee1951f6bdab",
   "metadata": {},
   "source": [
    "**@juliaroquette (14 Nov 23):** Implementing extinction laws for SEDan+"
   ]
  },
  {
   "cell_type": "code",
   "execution_count": 35,
   "id": "fd010eb2-6afe-4dd2-9e9c-c582583c3e04",
   "metadata": {},
   "outputs": [],
   "source": [
    "import matplotlib.pyplot as plt\n",
    "import numpy as np"
   ]
  },
  {
   "cell_type": "markdown",
   "id": "d8c3b16f-b427-46ff-abb9-e878af1a19d4",
   "metadata": {
    "tags": []
   },
   "source": [
    "# Cardelli 89\n",
    "\n",
    "Following https://ui.adsabs.harvard.edu/abs/1989ApJ...345..245C/abstract \n",
    ")[Cardelli et al. 1989 ApJ 345 245], here I am implementing a parametrization for the extinction law for the Galaxy.\n",
    "\n",
    "\\begin{equation}\n",
    "\\Bigg< \\frac{A_\\lambda}{A_V}\\Bigg>=a\\Big(\\frac{1}{\\lambda}\\Big)+\\frac{b\\Big(\\frac{1}{\\lambda}\\Big)}{R_V}\n",
    "\\end{equation}\n",
    "\n",
    "The definitions of $a\\Big(\\frac{1}{\\lambda}\\Big)$ and $b\\Big(\\frac{1}{\\lambda}\\Big)$ are divided into four wavelength ranges:\n",
    "\n",
    "- FUV: $8\\mu m^{-1}\\leq\\frac{1}{\\lambda}\\leq10\\mu m^{-1}$ ($\\sim 0.1-0.125 \\mu m$)\n",
    "\n",
    "    $a\\Big(\\frac{1}{\\lambda}\\Big)=-1.073-0.628\\Big(\\frac{1}{\\lambda}-8\\Big)+0.137\\Big(\\frac{1}{\\lambda}-8\\Big)^2-0.070\\Big(\\frac{1}{\\lambda}-8\\Big)^2$\n",
    "    \n",
    "    $b\\Big(\\frac{1}{\\lambda}\\Big)=13.670+4.257\\Big(\\frac{1}{\\lambda}-8\\Big)-0.420\\Big(\\frac{1}{\\lambda}-8\\Big)^2+0.374\\Big(\\frac{1}{\\lambda}-8\\Big)^3$ \n",
    "    \n",
    "    \n",
    "    \n",
    "- UV: $3.3\\mu m^{-1}\\leq\\frac{1}{\\lambda}\\leq8\\mu m^{-1}$ ($\\sim 0.125-0.91 \\mu m$)\n",
    "\n",
    "    $a\\Big(\\frac{1}{\\lambda}\\Big)=0.574\\times\\Big(\\frac{1}{\\lambda}\\Big)^{1.61}$ \n",
    "    \n",
    "    $b\\Big(\\frac{1}{\\lambda}\\Big)=-0.527\\times\\Big(\\frac{1}{\\lambda}\\Big)^{1.61}$ \n",
    "    \n",
    "- Optical/near-infrared: $1.1\\mu m^{-1}\\leq\\frac{1}{\\lambda}\\leq3.3\\mu m^{-1}$ ($\\sim 0.3-0.91 \\mu m$)\n",
    "\n",
    "    $a\\Big(\\frac{1}{\\lambda}\\Big) = 1 + 0.17699y - 0.50447y^2 - 0.02427y^3 + 0.72085y^4 + 0.01979y^5 - 0.77530y^6 + 0.32999y^7$, where $y = \\frac{1}{\\lambda}-1.82$\n",
    "    \n",
    "    $b\\Big(\\frac{1}{\\lambda}\\Big) = 1.41338y + 2.28305y^2 + 1.07233y^3 - 5.38434y^4 - 0.62251y^5 + 5.30260y^6 - 2.09002y^7$ \n",
    "    \n",
    "- Infrared: $0.3\\mu m^{-1}\\leq\\frac{1}{\\lambda}\\leq1.1\\mu m^{-1}$ ($\\sim 0.91-3.3 \\mu m$)\n",
    "\n",
    "    $a\\Big(\\frac{1}{\\lambda}\\Big) =  1.752 - 0.316\\Big(\\frac{1}{\\lambda}\\Big) - \\frac{0.104}{\\Bigg[\\Big(\\frac{1}{\\lambda} - 4.67\\Big)^2 + 0.341\\Bigg]} + F_a\\Big(\\frac{1}{\\lambda}\\Big)$, and\n",
    "    \n",
    "    $b\\Big(\\frac{1}{\\lambda}\\Big) = -3.090 + 1.825\\Big(\\frac{1}{\\lambda}\\Big) + \\frac{1.206}{\\Bigg[\\Big(\\frac{1}{\\lambda} - 4.62\\Big)^2 + 0.263\\Bigg]} + F_b\\Big(\\frac{1}{\\lambda}\\Big)$, where:\n",
    "    \n",
    "    $F_a\\Big(\\frac{1}{\\lambda}\\Big) = - 0.04473(\\frac{1}{\\lambda} - 5.9)^2 - 0.009779(\\frac{1}{\\lambda} - 5.9)^3 $ for $8\\geq\\frac{1}{\\lambda}\\geq 5.9$\n",
    "    \n",
    "    $F_b\\Big(\\frac{1}{\\lambda}\\Big) = 0.2130(\\frac{1}{\\lambda} - 5.9)^2 + 0.1207(\\frac{1}{\\lambda} - 5.9)^3 $ for $8\\geq\\frac{1}{\\lambda}\\geq 5.9$\n",
    "       \n",
    "    $F_a\\Big(\\frac{1}{\\lambda}\\Big) = F_b\\Big(\\frac{1}{\\lambda}\\Big) = 0 $ for $\\frac{1}{\\lambda}< 5.9$"
   ]
  },
  {
   "cell_type": "code",
   "execution_count": 285,
   "id": "0559ccf4-9edf-4d7a-98df-a5e4b933c905",
   "metadata": {},
   "outputs": [],
   "source": [
    "def cardeli89_Awl_Av(x, Rv=3.1):\n",
    "    \"\"\"\n",
    "    input:\n",
    "    \n",
    "    - wavelength in microm\n",
    "    \"\"\"\n",
    "    x = np.asarray(x)\n",
    "   # x = 1./np.array(wavelength)\n",
    "    def ax(x):\n",
    "        \n",
    "        # IR\n",
    "        ir = (x >= 0.3) & (x <= 1.1)\n",
    "        ir_result = np.where(ir, 0.574 * (x**1.61), 0)\n",
    "\n",
    "        # OIR\n",
    "        y = x - 1.82\n",
    "        oir = (x > 1.1) & (x < 3.3)\n",
    "        oir_result = np.where(oir, 1 + 0.17699*y - 0.50447*y**2 - 0.02427*y**3 + 0.72085*y**4\\\n",
    "                           + 0.01979*y**5 - 0.77530*y**6 + 0.32999*y**7, 0)\n",
    "\n",
    "        # UV\n",
    "        uv = (x >= 3.3) & (x <= 8.)\n",
    "        def Fa(x):\n",
    "            fa_condition = (x < 5.9)\n",
    "            return np.where(uv, 0, -0.04473*(x - 5.9)**2 - 0.009779*(x - 5.9)**3)\n",
    "        uv_result = np.where(uv, 1.752 - 0.316*x - 0.104/((x - 4.67)**2 + 0.341) + Fa(x), 0)\n",
    "\n",
    "        # FUV\n",
    "        fuv = (x > 8) & (x <= 10.)\n",
    "        fuv_result = np.where(fuv, -1.073 - 0.628*(x - 8.) + 0.137*(x - 8.)**2 - 0.070*(x - 8.)**3 , 0)\n",
    "\n",
    "\n",
    "        # Outside range\n",
    "        outside = ~ir & ~oir & ~uv & ~fuv\n",
    "        outside_result = np.where(outside, np.nan, 0.)\n",
    "\n",
    "        return  ir_result + oir_result + uv_result + fuv_result + outside_result\n",
    "    def bx(x):\n",
    "        # IR\n",
    "        ir = (x >= 0.3) & (x <= 1.1)\n",
    "        ir_result = np.where(ir, -0.527*(x**1.61), 0)\n",
    "\n",
    "        # OIR\n",
    "        oir = (x > 1.1) & (x < 3.3)        \n",
    "        y = x - 1.82\n",
    "        oir_result = np.where(oir, 1.41338*y + 2.28305*y**2 +\n",
    "                              1.07233*y**3 - 5.38434*y**4 - 0.62251*y**5 +\n",
    "                              5.30260*y**6 - 2.09002*y**7 , 0)\n",
    "\n",
    "        # UV\n",
    "        uv = (x >= 3.3) & (x <= 8.)\n",
    "        def Fb(x):\n",
    "            fb_condition = (x < 5.9)\n",
    "            return np.where(fb_condition, 0,  0.2130*(x - 5.9)**2 + 0.1207*(x - 5.9)**3)\n",
    "        uv_result = np.where(uv,  -3.090 + 1.825*x + 1.206/((x- 4.62)**2 + 0.263)+ Fb(x), 0)\n",
    "        \n",
    "        # FUV\n",
    "        fuv = (x > 8.) & (x <= 10.)\n",
    "        fuv_result = np.where(fuv, 13.670 + 4.257*(x - 8) - 0.420*(x - 8)**2 + 0.374*(x - 8)**3, 0)\n",
    "        \n",
    "\n",
    "        # Outside range\n",
    "        outside = ~ir & ~oir & ~uv & ~fuv\n",
    "        outside_result = np.where(outside, np.nan, 0)\n",
    "\n",
    "        return ir_result + oir_result + uv_result + fuv_result + outside_result\n",
    "    return ax(x) + bx(x)/Rv"
   ]
  },
  {
   "cell_type": "markdown",
   "id": "5fc60a0f-c580-4e5f-9e03-170b4d984900",
   "metadata": {},
   "source": [
    "Based on Table 3 from Cardelli+89, this tests if my implementation is correct:"
   ]
  },
  {
   "cell_type": "code",
   "execution_count": 286,
   "id": "7b2cfbbc-b52a-4af5-a6a0-fca456228183",
   "metadata": {},
   "outputs": [],
   "source": [
    "import decimal \n"
   ]
  },
  {
   "cell_type": "code",
   "execution_count": 287,
   "id": "f52c9015-27d4-423d-9cc1-b50af90e0364",
   "metadata": {},
   "outputs": [
    {
     "ename": "TypeError",
     "evalue": "optional argument must be a context",
     "output_type": "error",
     "traceback": [
      "\u001b[0;31m---------------------------------------------------------------------------\u001b[0m",
      "\u001b[0;31mTypeError\u001b[0m                                 Traceback (most recent call last)",
      "Input \u001b[0;32mIn [287]\u001b[0m, in \u001b[0;36m<cell line: 2>\u001b[0;34m()\u001b[0m\n\u001b[1;32m      1\u001b[0m ct \u001b[38;5;241m=\u001b[39m decimal\u001b[38;5;241m.\u001b[39mgetcontext()\u001b[38;5;241m.\u001b[39mprec \u001b[38;5;241m=\u001b[39m \u001b[38;5;241m4\u001b[39m\n\u001b[0;32m----> 2\u001b[0m \u001b[43mdecimal\u001b[49m\u001b[38;5;241;43m.\u001b[39;49m\u001b[43mDecimal\u001b[49m\u001b[43m(\u001b[49m\u001b[38;5;241;43m0.9530\u001b[39;49m\u001b[43m,\u001b[49m\u001b[43m \u001b[49m\u001b[43mct\u001b[49m\u001b[43m)\u001b[49m \u001b[38;5;241m==\u001b[39m decimal\u001b[38;5;241m.\u001b[39mDecimal(\u001b[38;5;241m0.9530040376911071\u001b[39m, ct)\n",
      "\u001b[0;31mTypeError\u001b[0m: optional argument must be a context"
     ]
    }
   ],
   "source": [
    "ct = decimal.getcontext().prec = 4\n",
    "decimal.Decimal(0.9530, ct) == decimal.Decimal(0.9530040376911071, ct)"
   ]
  },
  {
   "cell_type": "code",
   "execution_count": 288,
   "id": "dd379704-a49c-4d5b-9e35-3b5a00defd44",
   "metadata": {},
   "outputs": [],
   "source": [
    "ft_ = ['U', 'B',  'V',  'R',  'I',  'J', 'H',  'K', 'L']\n",
    "x_ = [2.78, 2.27, 1.82, 1.43, 1.11, 0.8, 0.63, 0.46, 0.29]\n",
    "ax_ = [0.9530, 0.9982, 1.0000, 0.8686, 0.6800, 0.4008, 0.2693, 0.1615, 0.0800]\n",
    "bx_ = [1.9090, 1.0495, 0.0000, -0.3660, -0.6239, -0.3679, -0.2473, -0.1483, -0.0734]\n",
    "Av_3p1_ = [1.569, 1.337, 1.000, 0.751, 0.479, 0.282, 0.190, 0.114, 0.056]\n",
    "assert len(ft) == len(x_) == len(ax_) == len(bx_) == len(Av_3p1)"
   ]
  },
  {
   "cell_type": "code",
   "execution_count": 289,
   "id": "4ec73877-58ab-475d-8331-877b8be69b96",
   "metadata": {},
   "outputs": [
    {
     "name": "stdout",
     "output_type": "stream",
     "text": [
      "error at x = 2.78, ax = 0.953 and found a(x) = 0.9530040376911071\n",
      "error at x = 2.27, ax = 0.9982 and found a(x) = 0.9999984200611799\n",
      "error at x = 1.82, ax = 1.0 and found a(x) = 1.0\n",
      "error at x = 1.43, ax = 0.8686 and found a(x) = 0.8690006402518357\n",
      "error at x = 1.11, ax = 0.68 and found a(x) = 0.6790006684382455\n",
      "error at x = 0.8, ax = 0.4008 and found a(x) = 0.4007622179372656\n",
      "error at x = 0.63, ax = 0.2693 and found a(x) = 0.27280365019748587\n",
      "error at x = 0.46, ax = 0.1615 and found a(x) = 0.16441899958991438\n"
     ]
    }
   ],
   "source": [
    "    for i, x in enumerate(x_[:-1]):\n",
    "        # assert np.isclose(ax(x), ax_[i]), \n",
    "        print(\"error at x = {0}, ax = {1} and found a(x) = {2}\".format(x, ax_[i], ax(x)))"
   ]
  },
  {
   "cell_type": "code",
   "execution_count": 290,
   "id": "bb04553c-e1ad-469e-b295-071bd3888a20",
   "metadata": {},
   "outputs": [
    {
     "data": {
      "text/plain": [
       "0.16441899958991438"
      ]
     },
     "execution_count": 290,
     "metadata": {},
     "output_type": "execute_result"
    }
   ],
   "source": [
    "ax(np.array(x))"
   ]
  },
  {
   "cell_type": "code",
   "execution_count": 291,
   "id": "63e55b1f-c0aa-4777-821a-b1e4fb1e3539",
   "metadata": {},
   "outputs": [
    {
     "name": "stdout",
     "output_type": "stream",
     "text": [
      "error at x = 2.78, ax = 1.909 and found a(x) = 1.9089955174730173\n",
      "error at x = 2.27, ax = 1.0495 and found a(x) = 0.9999978251145467\n",
      "error at x = 1.82, ax = 0.0 and found a(x) = 0.0\n",
      "error at x = 1.43, ax = -0.366 and found a(x) = -0.3649961746445802\n",
      "error at x = 1.11, ax = -0.6239 and found a(x) = -0.6229948252024011\n",
      "error at x = 0.8, ax = -0.3679 and found a(x) = -0.3679471931235871\n",
      "error at x = 0.63, ax = -0.2473 and found a(x) = -0.2504660690837545\n",
      "error at x = 0.46, ax = -0.1483 and found a(x) = -0.15095611983255205\n"
     ]
    }
   ],
   "source": [
    "    for i, x in enumerate(x_[:-1]):\n",
    "        # assert np.isclose(ax(x), ax_[i]), \n",
    "        print(\"error at x = {0}, ax = {1} and found a(x) = {2}\".format(x, bx_[i], bx(x)))"
   ]
  },
  {
   "cell_type": "code",
   "execution_count": 292,
   "id": "dc889fbb-a4d4-48f5-abed-7e27bfb611b4",
   "metadata": {},
   "outputs": [
    {
     "name": "stdout",
     "output_type": "stream",
     "text": [
      "error at x = 2.78, ax = 1.569 and found a(x) = 1.5688090433275643\n",
      "error at x = 2.27, ax = 1.337 and found a(x) = 1.3225783636465176\n",
      "error at x = 1.82, ax = 1.0 and found a(x) = 1.0\n",
      "error at x = 1.43, ax = 0.751 and found a(x) = 0.751259938753584\n",
      "error at x = 1.11, ax = 0.479 and found a(x) = 0.47803459579230967\n",
      "error at x = 0.8, ax = 0.282 and found a(x) = 0.28206957499417296\n",
      "error at x = 0.63, ax = 0.19 and found a(x) = 0.192008144041436\n",
      "error at x = 0.46, ax = 0.114 and found a(x) = 0.11572347706328467\n"
     ]
    }
   ],
   "source": [
    "    for i, x in enumerate(x_[:-1]):\n",
    "        # assert np.isclose(ax(x), ax_[i]), \n",
    "        print(\"error at x = {0}, ax = {1} and found a(x) = {2}\".format(x, Av_3p1_[i], AlAv(x)))"
   ]
  },
  {
   "cell_type": "code",
   "execution_count": 293,
   "id": "cdfd81b2-6065-4767-af59-e780db618ed3",
   "metadata": {},
   "outputs": [
    {
     "data": {
      "text/plain": [
       "(0.16441899958991438, 0.46)"
      ]
     },
     "execution_count": 293,
     "metadata": {},
     "output_type": "execute_result"
    }
   ],
   "source": [
    "ax(x), x"
   ]
  },
  {
   "cell_type": "code",
   "execution_count": 294,
   "id": "4e85e81d-3c8c-48a7-affc-94b9b46b6fd1",
   "metadata": {},
   "outputs": [],
   "source": [
    "x = np.linspace(0.1, 10, 100)"
   ]
  },
  {
   "cell_type": "code",
   "execution_count": 296,
   "id": "f624b2e2-8878-4877-9032-b996f7b61759",
   "metadata": {},
   "outputs": [
    {
     "data": {
      "text/plain": [
       "<matplotlib.lines.Line2D at 0x1172079d0>"
      ]
     },
     "execution_count": 296,
     "metadata": {},
     "output_type": "execute_result"
    },
    {
     "data": {
      "image/png": "[encoded data removed]",
      "text/plain": [
       "<Figure size 432x288 with 1 Axes>"
      ]
     },
     "metadata": {
      "needs_background": "light"
     },
     "output_type": "display_data"
    }
   ],
   "source": [
    "plt.plot(x, cardeli89_Awl_Av(x), 'k.')\n",
    "plt.axvline(8)"
   ]
  },
  {
   "cell_type": "code",
   "execution_count": null,
   "id": "f7516c65-1287-450e-a14a-068a6e1b978a",
   "metadata": {},
   "outputs": [],
   "source": []
  }
 ],
 "metadata": {
  "kernelspec": {
   "display_name": "Python 3 (ipykernel)",
   "language": "python",
   "name": "python3"
  },
  "language_info": {
   "codemirror_mode": {
    "name": "ipython",
    "version": 3
   },
   "file_extension": ".py",
   "mimetype": "text/x-python",
   "name": "python",
   "nbconvert_exporter": "python",
   "pygments_lexer": "ipython3",
   "version": "3.10.13"
  }
 },
 "nbformat": 4,
 "nbformat_minor": 5
}
